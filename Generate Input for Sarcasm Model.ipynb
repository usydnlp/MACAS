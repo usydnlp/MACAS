{
 "cells": [
  {
   "cell_type": "code",
   "execution_count": null,
   "metadata": {
    "colab": {
     "base_uri": "https://localhost:8080/",
     "height": 34
    },
    "id": "VcCkZRQTUdbW",
    "outputId": "b083b2b8-c304-459c-f542-61b6330035df"
   },
   "outputs": [
    {
     "name": "stdout",
     "output_type": "stream",
     "text": [
      "99996\n"
     ]
    }
   ],
   "source": [
    "data = \n",
    "\n",
    "print(len(data))      "
   ]
  },
  {
   "cell_type": "code",
   "execution_count": null,
   "metadata": {
    "colab": {
     "base_uri": "https://localhost:8080/",
     "height": 34
    },
    "id": "A1kz-KDATT87",
    "outputId": "fccac65d-1052-4e4e-c5c9-de2dc45deacb"
   },
   "outputs": [
    {
     "name": "stdout",
     "output_type": "stream",
     "text": [
      "99996\n"
     ]
    }
   ],
   "source": [
    "cleaned_data = []        \n",
    "for text in data:\n",
    "  to_add = []\n",
    "  split_text = text.replace('\\t','').split(\" \")\n",
    "  for token in split_text:\n",
    "    to_add.append(token)\n",
    "  cleaned_data.append(\" \".join(to_add))\n",
    "\n",
    "print(len(cleaned_data))"
   ]
  },
  {
   "cell_type": "code",
   "execution_count": null,
   "metadata": {
    "id": "EiUEc-OuUdPI"
   },
   "outputs": [],
   "source": [
    "f = open(\"Sarcasm_input.txt\", \"w\")\n",
    "\n",
    "for i in range(len(cleaned_data)):\n",
    "  if(i == len(cleaned_data) - 1):\n",
    "    f.write(\"TrainSen\t1\t\"+cleaned_data[i].replace('\\n',''))\n",
    "  else:\n",
    "    f.write(\"TrainSen\t1\t\"+cleaned_data[i].replace('\\n','')+\"\\n\")"
   ]
  }
 ],
 "metadata": {
  "colab": {
   "collapsed_sections": [],
   "name": "Data to Fracking Sarcasm using Neural Network parser.ipynb",
   "provenance": [],
   "toc_visible": true
  },
  "kernelspec": {
   "display_name": "Python 3",
   "language": "python",
   "name": "python3"
  },
  "language_info": {
   "codemirror_mode": {
    "name": "ipython",
    "version": 3
   },
   "file_extension": ".py",
   "mimetype": "text/x-python",
   "name": "python",
   "nbconvert_exporter": "python",
   "pygments_lexer": "ipython3",
   "version": "3.7.4"
  }
 },
 "nbformat": 4,
 "nbformat_minor": 1
}
